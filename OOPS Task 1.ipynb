{
 "cells": [
  {
   "cell_type": "code",
   "execution_count": 2,
   "id": "3b66cd5f-3e69-4157-860a-ea61717a8312",
   "metadata": {},
   "outputs": [],
   "source": [
    "class vehicle:\n",
    "    def __init__(self,name_of_vehicle,max_speed,average_of_vehicle):\n",
    "        self.name_of_vehicle=name_of_vehicle\n",
    "        self.max_speed=max_speed\n",
    "        self.average_of_vehicle=average_of_vehicle"
   ]
  },
  {
   "cell_type": "code",
   "execution_count": 3,
   "id": "c42d9bd4-6d85-4ed0-a497-a56ad623e680",
   "metadata": {},
   "outputs": [],
   "source": [
    "class car (vehicle):\n",
    "    def seating_capacity(self,capacity):\n",
    "        self.capacity=capacity\n",
    "        return self.name_of_vehicle,capacity"
   ]
  },
  {
   "cell_type": "code",
   "execution_count": 4,
   "id": "b2bcf690-40c8-4748-98ba-56142fc03189",
   "metadata": {},
   "outputs": [],
   "source": [
    "a=car(\"toyota\",\"150km/hr\",\"45km\")"
   ]
  },
  {
   "cell_type": "code",
   "execution_count": 5,
   "id": "42917f3a-c4dd-4b39-a863-c646e80afbd1",
   "metadata": {},
   "outputs": [
    {
     "data": {
      "text/plain": [
       "('toyota', '60 persons')"
      ]
     },
     "execution_count": 5,
     "metadata": {},
     "output_type": "execute_result"
    }
   ],
   "source": [
    "a.seating_capacity(\"60 persons\")"
   ]
  },
  {
   "cell_type": "raw",
   "id": "e7e9a62d-1b60-4f15-8822-01cf0960bb09",
   "metadata": {},
   "source": [
    " When a child class inherites the properties of more than one parent class is called multiple inheritance"
   ]
  },
  {
   "cell_type": "code",
   "execution_count": 38,
   "id": "9008f7ca-bf6b-4047-be77-13425621f07a",
   "metadata": {},
   "outputs": [],
   "source": [
    "class school:\n",
    "    def __init__(self,name_of_school,number_of_students,rank):\n",
    "        self.number_of_students=number_of_students\n",
    "        self.rank=rank\n",
    "        self.name_of_school=name_of_school\n",
    "        \n",
    "    def school_info(self):\n",
    "        print(f\"{self.name_of_school} is having {self.number_of_students} and stands at {self.rank}\")"
   ]
  },
  {
   "cell_type": "code",
   "execution_count": 39,
   "id": "d0f118c4-28dc-4089-9d73-fb629cad1df4",
   "metadata": {},
   "outputs": [],
   "source": [
    "class higher_school:\n",
    "    def higer_education(self):\n",
    "        print(' this is a higher secondary school')"
   ]
  },
  {
   "cell_type": "code",
   "execution_count": 40,
   "id": "213f6eea-35ec-4437-abf2-39c6c107fd67",
   "metadata": {},
   "outputs": [],
   "source": [
    "class college (school,higher_school):\n",
    "    pass"
   ]
  },
  {
   "cell_type": "code",
   "execution_count": 54,
   "id": "66ea5718-a87a-417f-a103-615385350fbe",
   "metadata": {},
   "outputs": [],
   "source": [
    "c=college(\"St. Paul\",\"500 students\",\"3rd ranks\")"
   ]
  },
  {
   "cell_type": "code",
   "execution_count": 55,
   "id": "cfbfb4a7-3837-4576-b58b-28f4f0b03746",
   "metadata": {},
   "outputs": [
    {
     "name": "stdout",
     "output_type": "stream",
     "text": [
      "St. Paul is having 500 students and stands at 3rd ranks\n"
     ]
    }
   ],
   "source": [
    "c.school_info()"
   ]
  },
  {
   "cell_type": "code",
   "execution_count": 57,
   "id": "155f8f1c-c539-42c8-90f1-e4214aaf8f18",
   "metadata": {},
   "outputs": [],
   "source": [
    "# here we can pass the method of school class and higher_school class"
   ]
  },
  {
   "cell_type": "code",
   "execution_count": 1,
   "id": "ceef0b79-45e2-483b-a0e8-ddad819162f8",
   "metadata": {},
   "outputs": [],
   "source": [
    "# Getter is the method where we get data which was put in encapsulation. Encapsulated data \n",
    "# cannot be accessed directly , it can be accessed by getter method\n",
    "\n",
    "# Setter is the method where we set or modity the value of data which was encapsulated."
   ]
  },
  {
   "cell_type": "code",
   "execution_count": 5,
   "id": "592da99f-11a9-43f5-b7f3-d5a0662768b5",
   "metadata": {},
   "outputs": [],
   "source": [
    "class phone_number:\n",
    "    def __init__(self,phone_number):\n",
    "        self.__phone_number=phone_number\n",
    "        \n",
    "    def set_phone_number(self,number):\n",
    "        self.__phone_number=number\n",
    "        \n",
    "    def get_phone_number(self):\n",
    "        return self.__phone_number\n",
    "        \n",
    "        "
   ]
  },
  {
   "cell_type": "code",
   "execution_count": 6,
   "id": "cddbb5b9-254c-4c1f-a610-a7cc0a5b8893",
   "metadata": {},
   "outputs": [],
   "source": [
    "p=phone_number(8443077651)"
   ]
  },
  {
   "cell_type": "code",
   "execution_count": 7,
   "id": "8fbe982c-1cb5-482d-a5ee-a8963a8299fe",
   "metadata": {},
   "outputs": [
    {
     "data": {
      "text/plain": [
       "8443077651"
      ]
     },
     "execution_count": 7,
     "metadata": {},
     "output_type": "execute_result"
    }
   ],
   "source": [
    "p.get_phone_number()"
   ]
  },
  {
   "cell_type": "code",
   "execution_count": 8,
   "id": "968abc42-dd6d-4df5-bf36-00d95980319d",
   "metadata": {},
   "outputs": [],
   "source": [
    "p.set_phone_number(9123611241)"
   ]
  },
  {
   "cell_type": "code",
   "execution_count": 9,
   "id": "cf439107-3e1b-4a03-8a50-94192c270cf2",
   "metadata": {},
   "outputs": [
    {
     "data": {
      "text/plain": [
       "9123611241"
      ]
     },
     "execution_count": 9,
     "metadata": {},
     "output_type": "execute_result"
    }
   ],
   "source": [
    "p.get_phone_number()"
   ]
  },
  {
   "cell_type": "raw",
   "id": "72ae4287-5fd5-4b8d-83d2-db07e6f5b14d",
   "metadata": {},
   "source": [
    "Method overridding in python is when you have two methods with the same name that each perform\n",
    "diffrent tasks. This is an important feature of inheritance in python. the child class should have \n",
    "same number of parameters as the parent class"
   ]
  },
  {
   "cell_type": "code",
   "execution_count": 10,
   "id": "c57c9646-c970-4bce-84f3-5291032000b8",
   "metadata": {},
   "outputs": [],
   "source": [
    "class animal:\n",
    "    def walk(self):\n",
    "        print(\"Hello, I am the parent class\")\n",
    "    "
   ]
  },
  {
   "cell_type": "code",
   "execution_count": 11,
   "id": "03598458-c35f-4887-b202-f273011a0770",
   "metadata": {},
   "outputs": [],
   "source": [
    "class dog (animal):\n",
    "    def walk(self):\n",
    "        print(\"Hello, I am the child class\")"
   ]
  },
  {
   "cell_type": "code",
   "execution_count": 13,
   "id": "9b318fbe-0a72-4fe9-9057-ff3eb780be9d",
   "metadata": {},
   "outputs": [],
   "source": [
    "x=dog()"
   ]
  },
  {
   "cell_type": "code",
   "execution_count": 14,
   "id": "5c036ce9-b500-4ab4-a13b-d3505502d29a",
   "metadata": {},
   "outputs": [
    {
     "name": "stdout",
     "output_type": "stream",
     "text": [
      "Hello, I am the child class\n"
     ]
    }
   ],
   "source": [
    "x.walk()"
   ]
  },
  {
   "cell_type": "code",
   "execution_count": 15,
   "id": "92a3753f-8cf2-4a2f-825e-eb59d5fa2618",
   "metadata": {},
   "outputs": [],
   "source": [
    "x=animal()"
   ]
  },
  {
   "cell_type": "code",
   "execution_count": 16,
   "id": "d83a28ac-6c96-4836-a5ab-efb68d664726",
   "metadata": {},
   "outputs": [
    {
     "name": "stdout",
     "output_type": "stream",
     "text": [
      "Hello, I am the parent class\n"
     ]
    }
   ],
   "source": [
    "x.walk()"
   ]
  },
  {
   "cell_type": "code",
   "execution_count": null,
   "id": "2f45c1e5-e347-4041-9b4d-5aa68ae3e923",
   "metadata": {},
   "outputs": [],
   "source": []
  }
 ],
 "metadata": {
  "kernelspec": {
   "display_name": "Python 3 (ipykernel)",
   "language": "python",
   "name": "python3"
  },
  "language_info": {
   "codemirror_mode": {
    "name": "ipython",
    "version": 3
   },
   "file_extension": ".py",
   "mimetype": "text/x-python",
   "name": "python",
   "nbconvert_exporter": "python",
   "pygments_lexer": "ipython3",
   "version": "3.10.8"
  }
 },
 "nbformat": 4,
 "nbformat_minor": 5
}
